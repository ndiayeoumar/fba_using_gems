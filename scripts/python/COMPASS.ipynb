{
 "cells": [
  {
   "cell_type": "code",
   "execution_count": 1,
   "id": "3165ec7d-ea2d-48c0-b1ef-8f01832c9638",
   "metadata": {},
   "outputs": [],
   "source": [
    "def install_reqs():\n",
    "    !pip install pandas\n",
    "    !pip install \"matplotlib>=3.4\"\n",
    "    !pip install numpy\n",
    "    !pip install statsmodels\n",
    "    !pip install scipy\n",
    "\n",
    "# install_reqs()"
   ]
  },
  {
   "cell_type": "code",
   "execution_count": 2,
   "id": "a65a44d1-eaa5-45e2-babc-28777f5a652e",
   "metadata": {},
   "outputs": [],
   "source": [
    "import sys\n",
    "if \"google.colab\" in sys.modules:\n",
    "    !git clone -b docs https://github.com/YosefLab/Compass.git --depth 1\n",
    "    !cp -r Compass/notebooks/extdata ./\n",
    "    !cp /content/Compass/notebooks/compass_analysis.py /content/compass_analysis.py\n",
    "    !rm -r /content/Compass\n",
    "    install_reqs()"
   ]
  },
  {
   "cell_type": "code",
   "execution_count": 3,
   "id": "bca803d1-4cdf-4131-88e5-df6bcff0d434",
   "metadata": {},
   "outputs": [
    {
     "ename": "ModuleNotFoundError",
     "evalue": "No module named 'compass_analysis'",
     "output_type": "error",
     "traceback": [
      "\u001b[0;31m---------------------------------------------------------------------------\u001b[0m",
      "\u001b[0;31mModuleNotFoundError\u001b[0m                       Traceback (most recent call last)",
      "Cell \u001b[0;32mIn [3], line 4\u001b[0m\n\u001b[1;32m      2\u001b[0m \u001b[38;5;28;01mimport\u001b[39;00m \u001b[38;5;21;01mnumpy\u001b[39;00m \u001b[38;5;28;01mas\u001b[39;00m \u001b[38;5;21;01mnp\u001b[39;00m\n\u001b[1;32m      3\u001b[0m \u001b[38;5;28;01mimport\u001b[39;00m \u001b[38;5;21;01mmatplotlib\u001b[39;00m\u001b[38;5;21;01m.\u001b[39;00m\u001b[38;5;21;01mpyplot\u001b[39;00m \u001b[38;5;28;01mas\u001b[39;00m \u001b[38;5;21;01mplt\u001b[39;00m\n\u001b[0;32m----> 4\u001b[0m \u001b[38;5;28;01mfrom\u001b[39;00m \u001b[38;5;21;01mcompass_analysis\u001b[39;00m \u001b[38;5;28;01mimport\u001b[39;00m cohens_d, wilcoxon_test, get_reaction_consistencies, get_metareactions, labeled_reactions, amino_acid_metab\n",
      "\u001b[0;31mModuleNotFoundError\u001b[0m: No module named 'compass_analysis'"
     ]
    }
   ],
   "source": [
    "import pandas as pd\n",
    "import numpy as np\n",
    "import matplotlib.pyplot as plt\n",
    "from compass_analysis import cohens_d, wilcoxon_test, get_reaction_consistencies, get_metareactions, labeled_reactions, amino_acid_metab"
   ]
  },
  {
   "cell_type": "code",
   "execution_count": null,
   "id": "9bb64ae1-226b-4193-b52d-2a5fe364fd79",
   "metadata": {},
   "outputs": [],
   "source": []
  }
 ],
 "metadata": {
  "kernelspec": {
   "display_name": "Python 3 (ipykernel)",
   "language": "python",
   "name": "python3"
  },
  "language_info": {
   "codemirror_mode": {
    "name": "ipython",
    "version": 3
   },
   "file_extension": ".py",
   "mimetype": "text/x-python",
   "name": "python",
   "nbconvert_exporter": "python",
   "pygments_lexer": "ipython3",
   "version": "3.10.8"
  },
  "toc-autonumbering": false,
  "toc-showcode": false,
  "toc-showmarkdowntxt": false
 },
 "nbformat": 4,
 "nbformat_minor": 5
}
